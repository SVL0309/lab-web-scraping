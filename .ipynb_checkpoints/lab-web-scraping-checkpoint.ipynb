{
 "cells": [
  {
   "cell_type": "markdown",
   "id": "7e7a1ab8-2599-417d-9a65-25ef07f3a786",
   "metadata": {
    "id": "7e7a1ab8-2599-417d-9a65-25ef07f3a786"
   },
   "source": [
    "# Lab | Web Scraping"
   ]
  },
  {
   "cell_type": "markdown",
   "id": "ce8882fc-4815-4567-92fa-b4816358ba7d",
   "metadata": {
    "id": "ce8882fc-4815-4567-92fa-b4816358ba7d"
   },
   "source": [
    "Welcome to the IMDb Web Scraping Adventure Lab!\n",
    "\n",
    "**Objective**\n",
    "\n",
    "In this lab, we will embark on a mission to unearth valuable insights from the vast sea of data available on IMDb, one of the largest online databases of movie, TV, and celebrity information. As budding data scientists and business analysts, you have been tasked to scrape a specific subset of data from IMDb to assist film production companies in understanding the landscape of highly-rated movies in a defined time period. Your insights will potentially influence the making of the next netflix movie!\n",
    "\n",
    "**Background**\n",
    "\n",
    "In a world where data has become the new currency, businesses are leveraging big data to make informed decisions that drive success and profitability. The entertainment industry, being no exception, utilizes data analytics to comprehend market trends, audience preferences, and the performance of films based on various parameters such as director, genre, stars involved, etc. IMDb stands as a goldmine of such data, offering intricate details of almost every movie ever made.\n",
    "\n",
    "**Task**\n",
    "\n",
    "Your task is to create a Python script using `BeautifulSoup` and `pandas` to scrape IMDb movie data based on user ratings and release dates. This script should be able to filter movies with ratings above a certain threshold and within a specified date range.\n",
    "\n",
    "**Expected Outcome**\n",
    "\n",
    "- A function named `scrape_imdb` that takes four parameters: `title_type`,`user_rating`, `start_date`, and `end_date`.\n",
    "- The function should return a DataFrame with the following columns:\n",
    "  - **Movie Nr**: The number representing the movie’s position in the list.\n",
    "  - **Title**: The title of the movie.\n",
    "  - **Year**: The year the movie was released.\n",
    "  - **Rating**: The IMDb rating of the movie.\n",
    "  - **Runtime (min)**: The duration of the movie in minutes.\n",
    "  - **Genre**: The genre of the movie.\n",
    "  - **Description**: A brief description of the movie.\n",
    "  - **Director**: The director of the movie.\n",
    "  - **Stars**: The main stars of the movie.\n",
    "  - **Votes**: The number of votes the movie received.\n",
    "  - **Gross ($M)**: The gross earnings of the movie in millions of USD.\n",
    "\n",
    "You will execute this script to scrape data for movies with the Title Type `Feature Film` that have a user rating of `7.5 and above` and were released between `January 1, 1990, and December 31, 1992`.\n",
    "\n",
    "Remember to experiment with different title types, dates and ratings to ensure your code is versatile and can handle various searches effectively!\n",
    "\n",
    "**Resources**\n",
    "\n",
    "- [Beautiful Soup Documentation](https://www.crummy.com/software/BeautifulSoup/bs4/doc/)\n",
    "- [Pandas Documentation](https://pandas.pydata.org/pandas-docs/stable/index.html)\n",
    "- [IMDb Advanced Search](https://www.imdb.com/search/title/)\n"
   ]
  },
  {
   "cell_type": "markdown",
   "id": "3519921d-5890-445b-9a33-934ed8ee378c",
   "metadata": {
    "id": "3519921d-5890-445b-9a33-934ed8ee378c"
   },
   "source": [
    "**Hint**\n",
    "\n",
    "Your first mission is to familiarize yourself with the IMDb advanced search page. Head over to [IMDb advanced search](https://www.imdb.com/search/title/) and input the following parameters, keeping all other fields to their default values or blank:\n",
    "\n",
    "- **Title Type**: Feature film\n",
    "- **Release date**: From 1990 to 1992 (Note: You don't need to specify the day and month)\n",
    "- **User Rating**: 7.5 to -\n",
    "\n",
    "Upon searching, you'll land on a page showcasing a list of movies, each displaying vital details such as the title, release year, and crew information. Your task is to scrape this treasure trove of data.\n",
    "\n",
    "Carefully examine the resulting URL and construct your own URL to include all the necessary parameters for filtering the movies."
   ]
  },
  {
   "cell_type": "markdown",
   "id": "25a83a0d-a742-49f6-985e-e27887cbf922",
   "metadata": {
    "id": "25a83a0d-a742-49f6-985e-e27887cbf922"
   },
   "source": [
    "\n",
    "---\n",
    "\n",
    "**Best of luck! Immerse yourself in the world of movies and may the data be with you!**"
   ]
  },
  {
   "cell_type": "markdown",
   "id": "7b75cf0d-9afa-4eec-a9e2-befeac68b2a0",
   "metadata": {
    "id": "7b75cf0d-9afa-4eec-a9e2-befeac68b2a0"
   },
   "source": [
    "**Important note**:\n",
    "\n",
    "In the fast-changing online world, websites often get updates and make changes. When you try this lab, the IMDb website might be different from what we expect.\n",
    "\n",
    "If you run into problems because of these changes, like new rules or things that stop you from getting data, don't worry! Instead, get creative.\n",
    "\n",
    "You can choose another website that interests you and is good for scraping data. Websites like Wikipedia or The New York Times are good options. The main goal is still the same: get useful data and learn how to scrape it from a website that you find interesting. It's a chance to practice your web scraping skills and explore a source of information you like."
   ]
  },
  {
   "cell_type": "code",
   "execution_count": 1,
   "id": "40359eee-9cd7-4884-bfa4-83344c222305",
   "metadata": {
    "id": "40359eee-9cd7-4884-bfa4-83344c222305"
   },
   "outputs": [
    {
     "name": "stdout",
     "output_type": "stream",
     "text": [
      "Requirement already satisfied: requests in c:\\users\\38095\\anaconda3\\lib\\site-packages (2.31.0)\n",
      "Requirement already satisfied: beautifulsoup4 in c:\\users\\38095\\anaconda3\\lib\\site-packages (4.12.2)\n",
      "Requirement already satisfied: charset-normalizer<4,>=2 in c:\\users\\38095\\anaconda3\\lib\\site-packages (from requests) (2.0.4)\n",
      "Requirement already satisfied: idna<4,>=2.5 in c:\\users\\38095\\anaconda3\\lib\\site-packages (from requests) (3.4)\n",
      "Requirement already satisfied: urllib3<3,>=1.21.1 in c:\\users\\38095\\anaconda3\\lib\\site-packages (from requests) (1.26.16)\n",
      "Requirement already satisfied: certifi>=2017.4.17 in c:\\users\\38095\\anaconda3\\lib\\site-packages (from requests) (2024.2.2)\n",
      "Requirement already satisfied: soupsieve>1.2 in c:\\users\\38095\\anaconda3\\lib\\site-packages (from beautifulsoup4) (2.4)\n"
     ]
    }
   ],
   "source": [
    "# Your task is to create a Python script using BeautifulSoup and pandas to scrape IMDb movie data based on user ratings and release dates.\n",
    "# This script should be able to filter movies with ratings above a certain threshold and within a specified date range.\n",
    "\n",
    "from bs4 import BeautifulSoup\n",
    "import pandas as pd\n",
    "import requests\n",
    "!pip install requests beautifulsoup4\n",
    "\n"
   ]
  },
  {
   "cell_type": "code",
   "execution_count": 2,
   "id": "ce6d76dc",
   "metadata": {},
   "outputs": [
    {
     "data": {
      "text/plain": [
       "<Response [200]>"
      ]
     },
     "execution_count": 2,
     "metadata": {},
     "output_type": "execute_result"
    }
   ],
   "source": [
    "\n",
    "url = \"https://www.imdb.com/search/title/?title_type=feature&release_date=1990-01-01,1992-12-31&user_rating=7.5,\"\n",
    "response = requests.get(url,headers = {'User-Agent':'Mozilla/5.0 (Windows NT 6.3; Win 64 ; x64) Apple WeKit /537.36(KHTML , like Gecko) Chrome/80.0.3987.162 Safari/537.36'})\n",
    "response"
   ]
  },
  {
   "cell_type": "code",
   "execution_count": 3,
   "id": "48ab856a",
   "metadata": {},
   "outputs": [
    {
     "name": "stdout",
     "output_type": "stream",
     "text": [
      "text/html; charset=utf-8\n"
     ]
    }
   ],
   "source": [
    "print(response.headers['Content-Type'])"
   ]
  },
  {
   "cell_type": "code",
   "execution_count": 4,
   "id": "40507a7f",
   "metadata": {},
   "outputs": [],
   "source": [
    "soup = BeautifulSoup(response.content, \"html.parser\")"
   ]
  },
  {
   "cell_type": "code",
   "execution_count": 5,
   "id": "42017f9e",
   "metadata": {},
   "outputs": [
    {
     "data": {
      "text/plain": [
       "bs4.BeautifulSoup"
      ]
     },
     "execution_count": 5,
     "metadata": {},
     "output_type": "execute_result"
    }
   ],
   "source": [
    "type(soup)"
   ]
  },
  {
   "cell_type": "code",
   "execution_count": 6,
   "id": "7748b945",
   "metadata": {
    "scrolled": false
   },
   "outputs": [],
   "source": [
    "# print(soup.prettify())"
   ]
  },
  {
   "cell_type": "code",
   "execution_count": 7,
   "id": "d74c1ae7",
   "metadata": {},
   "outputs": [
    {
     "data": {
      "text/plain": [
       "<title>Advanced search</title>"
      ]
     },
     "execution_count": 7,
     "metadata": {},
     "output_type": "execute_result"
    }
   ],
   "source": [
    "soup.find(\"title\")"
   ]
  },
  {
   "cell_type": "code",
   "execution_count": 8,
   "id": "310bd0de",
   "metadata": {},
   "outputs": [
    {
     "name": "stdout",
     "output_type": "stream",
     "text": [
      "[<h3 class=\"ipc-title__text\">1. Das Schweigen der Lämmer</h3>, <h3 class=\"ipc-title__text\">2. GoodFellas - Drei Jahrzehnte in der Mafia</h3>, <h3 class=\"ipc-title__text\">3. Terminator 2: Tag der Abrechnung</h3>, <h3 class=\"ipc-title__text\">4. Mein Vetter Winnie</h3>, <h3 class=\"ipc-title__text\">5. Reservoir Dogs - Wilde Hunde</h3>, <h3 class=\"ipc-title__text\">6. Grüne Tomaten</h3>, <h3 class=\"ipc-title__text\">7. Der Pate 3</h3>, <h3 class=\"ipc-title__text\">8. Die Schöne und das Biest</h3>, <h3 class=\"ipc-title__text\">9. Total Recall - Die totale Erinnerung</h3>, <h3 class=\"ipc-title__text\">10. Erbarmungslos</h3>, <h3 class=\"ipc-title__text\">11. Kevin - Allein zu Haus</h3>, <h3 class=\"ipc-title__text\">12. Thelma &amp; Louise</h3>, <h3 class=\"ipc-title__text\">13. Der mit dem Wolf tanzt</h3>, <h3 class=\"ipc-title__text\">14. Der letzte Mohikaner</h3>, <h3 class=\"ipc-title__text\">15. Aladdin</h3>, <h3 class=\"ipc-title__text\">16. Miller's Crossing</h3>, <h3 class=\"ipc-title__text\">17. Jagd auf Roter Oktober</h3>, <h3 class=\"ipc-title__text\">18. Boyz n the Hood - Jungs im Viertel</h3>, <h3 class=\"ipc-title__text\">19. Eine Frage der Ehre</h3>, <h3 class=\"ipc-title__text\">20. Edward mit den Scherenhänden</h3>, <h3 class=\"ipc-title__text\">21. Der Duft der Frauen</h3>, <h3 class=\"ipc-title__text\">22. Misery</h3>, <h3 class=\"ipc-title__text\">23. Zeit des Erwachens</h3>, <h3 class=\"ipc-title__text\">24. Glengarry Glen Ross</h3>, <h3 class=\"ipc-title__text\">25. JFK: Tatort Dallas</h3>, <h3 class=\"ipc-title__text\">26. Die Commitments</h3>, <h3 class=\"ipc-title__text\">27. Braindead</h3>, <h3 class=\"ipc-title__text\">28. Chaplin - Das Leben der unsterblichen Filmlegende</h3>, <h3 class=\"ipc-title__text\">29. Von Mäusen und Menschen</h3>, <h3 class=\"ipc-title__text\">30. König der Fischer</h3>, <h3 class=\"ipc-title__text\">31. Malcolm X</h3>, <h3 class=\"ipc-title__text\">32. The Player</h3>, <h3 class=\"ipc-title__text\">33. Die schöne Querulantin</h3>, <h3 class=\"ipc-title__text\">34. Barton Fink</h3>, <h3 class=\"ipc-title__text\">35. Porco Rosso</h3>, <h3 class=\"ipc-title__text\">36. Delicatessen</h3>, <h3 class=\"ipc-title__text\">37. Night on Earth</h3>, <h3 class=\"ipc-title__text\">38. Hard Boiled</h3>, <h3 class=\"ipc-title__text\">39. Ein Sommer zum Verlieben</h3>, <h3 class=\"ipc-title__text\">40. Die zwei Leben der Veronika</h3>, <h3 class=\"ipc-title__text\">41. Tränen der Erinnerung</h3>, <h3 class=\"ipc-title__text\">42. Akira Kurosawas Träume</h3>, <h3 class=\"ipc-title__text\">43. The Five Heartbeats</h3>, <h3 class=\"ipc-title__text\">44. Rote Laterne</h3>, <h3 class=\"ipc-title__text\">45. Close Up</h3>, <h3 class=\"ipc-title__text\">46. Cyrano von Bergerac</h3>, <h3 class=\"ipc-title__text\">47. Baraka</h3>, <h3 class=\"ipc-title__text\">48. Paris brennt</h3>, <h3 class=\"ipc-title__text\">49. Europa</h3>, <h3 class=\"ipc-title__text\">50. Reise ins Herz der Finsternis</h3>, <h3 class=\"ipc-title__text\">Recently viewed</h3>]\n"
     ]
    }
   ],
   "source": [
    "soup.find_all('h3', class_=\"ipc-title__text\")\n",
    "print(soup.find_all('h3', class_=\"ipc-title__text\"))"
   ]
  },
  {
   "cell_type": "code",
   "execution_count": 9,
   "id": "d249c099",
   "metadata": {},
   "outputs": [],
   "source": [
    "# A function named scrape_imdb that takes four parameters: title_type,user_rating, start_date, and end_date.\n",
    "# The function should return a DataFrame with the following columns:\n",
    "# - Movie Nr: The number representing the movie’s position in the list.\n",
    "# - Title: The title of the movie.\n",
    "# - Year: The year the movie was released.\n",
    "# - Rating: The IMDb rating of the movie.\n",
    "# - Runtime (min): The duration of the movie in minutes.\n",
    "# Genre: The genre of the movie.\n",
    "# - Description: A brief description of the movie.\n",
    "# Director: The director of the movie.\n",
    "# Stars: The main stars of the movie.\n",
    "# Votes: The number of votes the movie received.\n",
    "# Gross ($M): The gross earnings of the movie in millions of USD.\n",
    "\n"
   ]
  },
  {
   "cell_type": "code",
   "execution_count": 10,
   "id": "a04b4159",
   "metadata": {},
   "outputs": [],
   "source": [
    "\n",
    "name_element = soup.find_all(\"h3\" , class_ = 'ipc-title__text')\n"
   ]
  },
  {
   "cell_type": "code",
   "execution_count": 11,
   "id": "c890c6bd",
   "metadata": {
    "scrolled": true
   },
   "outputs": [],
   "source": [
    "titles_lists = [i.get_text().split(\".\") for i in name_element]\n"
   ]
  },
  {
   "cell_type": "code",
   "execution_count": 12,
   "id": "6935b394",
   "metadata": {},
   "outputs": [
    {
     "data": {
      "text/plain": [
       "51"
      ]
     },
     "execution_count": 12,
     "metadata": {},
     "output_type": "execute_result"
    }
   ],
   "source": [
    "len(titles_lists)"
   ]
  },
  {
   "cell_type": "code",
   "execution_count": 13,
   "id": "409588c7",
   "metadata": {},
   "outputs": [
    {
     "name": "stdout",
     "output_type": "stream",
     "text": [
      "['1', '2', '3', '4', '5', '6', '7', '8', '9', '10', '11', '12', '13', '14', '15', '16', '17', '18', '19', '20', '21', '22', '23', '24', '25', '26', '27', '28', '29', '30', '31', '32', '33', '34', '35', '36', '37', '38', '39', '40', '41', '42', '43', '44', '45', '46', '47', '48', '49', '50']\n"
     ]
    }
   ],
   "source": [
    "# Movie Nr: The number representing the movie’s position in the list.\n",
    "number  = []\n",
    "for i in range(50):\n",
    "    number.append(titles_lists[i][0])\n",
    "\n",
    "print (number)"
   ]
  },
  {
   "cell_type": "code",
   "execution_count": 14,
   "id": "0daa6692",
   "metadata": {
    "scrolled": true
   },
   "outputs": [
    {
     "name": "stdout",
     "output_type": "stream",
     "text": [
      "[' Das Schweigen der Lämmer', ' GoodFellas - Drei Jahrzehnte in der Mafia', ' Terminator 2: Tag der Abrechnung', ' Mein Vetter Winnie', ' Reservoir Dogs - Wilde Hunde', ' Grüne Tomaten', ' Der Pate 3', ' Die Schöne und das Biest', ' Total Recall - Die totale Erinnerung', ' Erbarmungslos', ' Kevin - Allein zu Haus', ' Thelma & Louise', ' Der mit dem Wolf tanzt', ' Der letzte Mohikaner', ' Aladdin', \" Miller's Crossing\", ' Jagd auf Roter Oktober', ' Boyz n the Hood - Jungs im Viertel', ' Eine Frage der Ehre', ' Edward mit den Scherenhänden', ' Der Duft der Frauen', ' Misery', ' Zeit des Erwachens', ' Glengarry Glen Ross', ' JFK: Tatort Dallas', ' Die Commitments', ' Braindead', ' Chaplin - Das Leben der unsterblichen Filmlegende', ' Von Mäusen und Menschen', ' König der Fischer', ' Malcolm X', ' The Player', ' Die schöne Querulantin', ' Barton Fink', ' Porco Rosso', ' Delicatessen', ' Night on Earth', ' Hard Boiled', ' Ein Sommer zum Verlieben', ' Die zwei Leben der Veronika', ' Tränen der Erinnerung', ' Akira Kurosawas Träume', ' The Five Heartbeats', ' Rote Laterne', ' Close Up', ' Cyrano von Bergerac', ' Baraka', ' Paris brennt', ' Europa', ' Reise ins Herz der Finsternis']\n"
     ]
    }
   ],
   "source": [
    "# Title: The title of the movie.\n",
    "titles_lists[1][1]\n",
    "\n",
    "name  = []\n",
    "for i in range(50):\n",
    "    name.append(titles_lists[i][1])\n",
    "\n",
    "print (name)\n"
   ]
  },
  {
   "cell_type": "code",
   "execution_count": 15,
   "id": "a92e846e",
   "metadata": {},
   "outputs": [
    {
     "data": {
      "text/plain": [
       "[['1991'],\n",
       " ['1h 58m'],\n",
       " ['16'],\n",
       " ['1990'],\n",
       " ['2h 25m'],\n",
       " ['16'],\n",
       " ['1991'],\n",
       " ['2h 17m'],\n",
       " ['16'],\n",
       " ['1992'],\n",
       " ['2h'],\n",
       " ['6'],\n",
       " ['1992'],\n",
       " ['1h 39m'],\n",
       " ['18'],\n",
       " ['1991'],\n",
       " ['2h 10m'],\n",
       " ['6'],\n",
       " ['1990'],\n",
       " ['2h 42m'],\n",
       " ['16'],\n",
       " ['1991'],\n",
       " ['1h 24m'],\n",
       " ['0'],\n",
       " ['1990'],\n",
       " ['1h 53m'],\n",
       " ['18'],\n",
       " ['1992'],\n",
       " ['2h 10m'],\n",
       " ['16'],\n",
       " ['1990'],\n",
       " ['1h 43m'],\n",
       " ['12'],\n",
       " ['1991'],\n",
       " ['2h 10m'],\n",
       " ['16'],\n",
       " ['1990'],\n",
       " ['3h 1m'],\n",
       " ['12'],\n",
       " ['1992'],\n",
       " ['1h 52m'],\n",
       " ['16'],\n",
       " ['1992'],\n",
       " ['1h 30m'],\n",
       " ['0'],\n",
       " ['1990'],\n",
       " ['1h 55m'],\n",
       " ['16'],\n",
       " ['1990'],\n",
       " ['2h 15m'],\n",
       " ['12'],\n",
       " ['1991'],\n",
       " ['1h 52m'],\n",
       " ['16'],\n",
       " ['1992'],\n",
       " ['2h 18m'],\n",
       " ['12'],\n",
       " ['1990'],\n",
       " ['1h 45m'],\n",
       " ['6'],\n",
       " ['1992'],\n",
       " ['2h 36m'],\n",
       " ['12'],\n",
       " ['1990'],\n",
       " ['1h 47m'],\n",
       " ['16'],\n",
       " ['1990'],\n",
       " ['2h 1m'],\n",
       " ['12'],\n",
       " ['1992'],\n",
       " ['1h 40m'],\n",
       " ['12'],\n",
       " ['1991'],\n",
       " ['3h 9m'],\n",
       " ['12'],\n",
       " ['1991'],\n",
       " ['1h 58m'],\n",
       " ['12'],\n",
       " ['1992'],\n",
       " ['1h 34m'],\n",
       " ['BPjM Restricted'],\n",
       " ['1992'],\n",
       " ['2h 23m'],\n",
       " ['6'],\n",
       " ['1992'],\n",
       " ['1h 55m'],\n",
       " ['12'],\n",
       " ['1991'],\n",
       " ['2h 17m'],\n",
       " ['16'],\n",
       " ['1992'],\n",
       " ['3h 22m'],\n",
       " ['12'],\n",
       " ['1992'],\n",
       " ['2h 4m'],\n",
       " ['12'],\n",
       " ['1991'],\n",
       " ['3h 58m'],\n",
       " ['6'],\n",
       " ['1991'],\n",
       " ['1h 56m'],\n",
       " ['16'],\n",
       " ['1992'],\n",
       " ['1h 34m'],\n",
       " ['6'],\n",
       " ['1991'],\n",
       " ['1h 39m'],\n",
       " ['16'],\n",
       " ['1991'],\n",
       " ['2h 9m'],\n",
       " ['16'],\n",
       " ['1992'],\n",
       " ['2h 8m'],\n",
       " ['R'],\n",
       " ['1991'],\n",
       " ['3h 57m'],\n",
       " ['16'],\n",
       " ['1991'],\n",
       " ['1h 38m'],\n",
       " ['12'],\n",
       " ['1991'],\n",
       " ['1h 59m'],\n",
       " ['12'],\n",
       " ['1990'],\n",
       " ['1h 59m'],\n",
       " ['12'],\n",
       " ['1991'],\n",
       " ['2h 1m'],\n",
       " ['R'],\n",
       " ['1991'],\n",
       " ['2h 5m'],\n",
       " ['12'],\n",
       " ['1990'],\n",
       " ['1h 38m'],\n",
       " ['Not Rated'],\n",
       " ['1990'],\n",
       " ['2h 17m'],\n",
       " ['12'],\n",
       " ['1992'],\n",
       " ['1h 36m'],\n",
       " ['0'],\n",
       " ['1990'],\n",
       " ['1h 18m'],\n",
       " ['16'],\n",
       " ['1991'],\n",
       " ['1h 52m'],\n",
       " ['16'],\n",
       " ['1991'],\n",
       " ['1h 36m'],\n",
       " ['16']]"
      ]
     },
     "execution_count": 15,
     "metadata": {},
     "output_type": "execute_result"
    }
   ],
   "source": [
    "# Year: The year the movie was released.\n",
    "# Runtime (min): The duration of the movie in minutes.\n",
    "\n",
    "year_runtime_element = soup.find_all( \"span\", class_=\"sc-b0691f29-8 ilsLEX dli-title-metadata-item\")\n",
    "year_runtime_element\n",
    "year_runtime_lists = [i.get_text().split(\".\") for i in year_runtime_element]\n",
    "year_runtime_lists\n",
    " "
   ]
  },
  {
   "cell_type": "code",
   "execution_count": 16,
   "id": "41824c26",
   "metadata": {},
   "outputs": [
    {
     "name": "stdout",
     "output_type": "stream",
     "text": [
      "['1h 58', '2h 25', '2h 17', '2h', '1h 39', '2h 10', '2h 42', '1h 24', '1h 53', '2h 10', '1h 43', '2h 10', '3h 1', '1h 52', '1h 30', '1h 55', '2h 15']\n",
      "[60, 120, 120, 120, 60, 120, 120, 60, 60, 120, 60, 120, 180, 60, 60, 60, 120]\n"
     ]
    }
   ],
   "source": [
    "year = []\n",
    "runtime_interim = []\n",
    "runtime =[]\n",
    "for i in range (0, 50, 3):\n",
    "    year.append(year_runtime_lists[i])\n",
    "for i in range (1, 50, 3):\n",
    "    runtime_interim.append(year_runtime_lists[i])\n",
    "\n",
    "runtime_new = [time[0].replace('m', '') for time in runtime_interim]\n",
    "print(runtime_new)\n",
    "\n",
    "for i in runtime_new:\n",
    "    if 'h' in i:\n",
    "        if 'm' in i:\n",
    "            hours, minutes = map(int, i.split('h '))\n",
    "            total_minutes = hours * 60 + minutes\n",
    "        else:\n",
    "            total_minutes = int(i.split('h')[0]) * 60\n",
    "    else:\n",
    "        total_minutes = int(i.split('m')[0])\n",
    "    runtime.append(total_minutes)\n",
    "\n",
    "print(runtime)"
   ]
  },
  {
   "cell_type": "code",
   "execution_count": 17,
   "id": "eee4215d",
   "metadata": {},
   "outputs": [
    {
     "data": {
      "text/plain": [
       "[<span aria-label=\"IMDb rating: 8.6\" class=\"ipc-rating-star ipc-rating-star--base ipc-rating-star--imdb ratingGroup--imdb-rating\" data-testid=\"ratingGroup--imdb-rating\"><svg class=\"ipc-icon ipc-icon--star-inline\" fill=\"currentColor\" height=\"24\" role=\"presentation\" viewbox=\"0 0 24 24\" width=\"24\" xmlns=\"http://www.w3.org/2000/svg\"><path d=\"M12 20.1l5.82 3.682c1.066.675 2.37-.322 2.09-1.584l-1.543-6.926 5.146-4.667c.94-.85.435-2.465-.799-2.567l-6.773-.602L13.29.89a1.38 1.38 0 0 0-2.581 0l-2.65 6.53-6.774.602C.052 8.126-.453 9.74.486 10.59l5.147 4.666-1.542 6.926c-.28 1.262 1.023 2.26 2.09 1.585L12 20.099z\"></path></svg>8.6<span class=\"ipc-rating-star--voteCount\"> (<!-- -->1.5M<!-- -->)</span></span>,\n",
       " <span aria-label=\"IMDb rating: 8.7\" class=\"ipc-rating-star ipc-rating-star--base ipc-rating-star--imdb ratingGroup--imdb-rating\" data-testid=\"ratingGroup--imdb-rating\"><svg class=\"ipc-icon ipc-icon--star-inline\" fill=\"currentColor\" height=\"24\" role=\"presentation\" viewbox=\"0 0 24 24\" width=\"24\" xmlns=\"http://www.w3.org/2000/svg\"><path d=\"M12 20.1l5.82 3.682c1.066.675 2.37-.322 2.09-1.584l-1.543-6.926 5.146-4.667c.94-.85.435-2.465-.799-2.567l-6.773-.602L13.29.89a1.38 1.38 0 0 0-2.581 0l-2.65 6.53-6.774.602C.052 8.126-.453 9.74.486 10.59l5.147 4.666-1.542 6.926c-.28 1.262 1.023 2.26 2.09 1.585L12 20.099z\"></path></svg>8.7<span class=\"ipc-rating-star--voteCount\"> (<!-- -->1.3M<!-- -->)</span></span>,\n",
       " <span aria-label=\"IMDb rating: 8.6\" class=\"ipc-rating-star ipc-rating-star--base ipc-rating-star--imdb ratingGroup--imdb-rating\" data-testid=\"ratingGroup--imdb-rating\"><svg class=\"ipc-icon ipc-icon--star-inline\" fill=\"currentColor\" height=\"24\" role=\"presentation\" viewbox=\"0 0 24 24\" width=\"24\" xmlns=\"http://www.w3.org/2000/svg\"><path d=\"M12 20.1l5.82 3.682c1.066.675 2.37-.322 2.09-1.584l-1.543-6.926 5.146-4.667c.94-.85.435-2.465-.799-2.567l-6.773-.602L13.29.89a1.38 1.38 0 0 0-2.581 0l-2.65 6.53-6.774.602C.052 8.126-.453 9.74.486 10.59l5.147 4.666-1.542 6.926c-.28 1.262 1.023 2.26 2.09 1.585L12 20.099z\"></path></svg>8.6<span class=\"ipc-rating-star--voteCount\"> (<!-- -->1.2M<!-- -->)</span></span>,\n",
       " <span aria-label=\"IMDb rating: 7.6\" class=\"ipc-rating-star ipc-rating-star--base ipc-rating-star--imdb ratingGroup--imdb-rating\" data-testid=\"ratingGroup--imdb-rating\"><svg class=\"ipc-icon ipc-icon--star-inline\" fill=\"currentColor\" height=\"24\" role=\"presentation\" viewbox=\"0 0 24 24\" width=\"24\" xmlns=\"http://www.w3.org/2000/svg\"><path d=\"M12 20.1l5.82 3.682c1.066.675 2.37-.322 2.09-1.584l-1.543-6.926 5.146-4.667c.94-.85.435-2.465-.799-2.567l-6.773-.602L13.29.89a1.38 1.38 0 0 0-2.581 0l-2.65 6.53-6.774.602C.052 8.126-.453 9.74.486 10.59l5.147 4.666-1.542 6.926c-.28 1.262 1.023 2.26 2.09 1.585L12 20.099z\"></path></svg>7.6<span class=\"ipc-rating-star--voteCount\"> (<!-- -->140K<!-- -->)</span></span>,\n",
       " <span aria-label=\"IMDb rating: 8.3\" class=\"ipc-rating-star ipc-rating-star--base ipc-rating-star--imdb ratingGroup--imdb-rating\" data-testid=\"ratingGroup--imdb-rating\"><svg class=\"ipc-icon ipc-icon--star-inline\" fill=\"currentColor\" height=\"24\" role=\"presentation\" viewbox=\"0 0 24 24\" width=\"24\" xmlns=\"http://www.w3.org/2000/svg\"><path d=\"M12 20.1l5.82 3.682c1.066.675 2.37-.322 2.09-1.584l-1.543-6.926 5.146-4.667c.94-.85.435-2.465-.799-2.567l-6.773-.602L13.29.89a1.38 1.38 0 0 0-2.581 0l-2.65 6.53-6.774.602C.052 8.126-.453 9.74.486 10.59l5.147 4.666-1.542 6.926c-.28 1.262 1.023 2.26 2.09 1.585L12 20.099z\"></path></svg>8.3<span class=\"ipc-rating-star--voteCount\"> (<!-- -->1.1M<!-- -->)</span></span>,\n",
       " <span aria-label=\"IMDb rating: 7.7\" class=\"ipc-rating-star ipc-rating-star--base ipc-rating-star--imdb ratingGroup--imdb-rating\" data-testid=\"ratingGroup--imdb-rating\"><svg class=\"ipc-icon ipc-icon--star-inline\" fill=\"currentColor\" height=\"24\" role=\"presentation\" viewbox=\"0 0 24 24\" width=\"24\" xmlns=\"http://www.w3.org/2000/svg\"><path d=\"M12 20.1l5.82 3.682c1.066.675 2.37-.322 2.09-1.584l-1.543-6.926 5.146-4.667c.94-.85.435-2.465-.799-2.567l-6.773-.602L13.29.89a1.38 1.38 0 0 0-2.581 0l-2.65 6.53-6.774.602C.052 8.126-.453 9.74.486 10.59l5.147 4.666-1.542 6.926c-.28 1.262 1.023 2.26 2.09 1.585L12 20.099z\"></path></svg>7.7<span class=\"ipc-rating-star--voteCount\"> (<!-- -->83K<!-- -->)</span></span>,\n",
       " <span aria-label=\"IMDb rating: 7.6\" class=\"ipc-rating-star ipc-rating-star--base ipc-rating-star--imdb ratingGroup--imdb-rating\" data-testid=\"ratingGroup--imdb-rating\"><svg class=\"ipc-icon ipc-icon--star-inline\" fill=\"currentColor\" height=\"24\" role=\"presentation\" viewbox=\"0 0 24 24\" width=\"24\" xmlns=\"http://www.w3.org/2000/svg\"><path d=\"M12 20.1l5.82 3.682c1.066.675 2.37-.322 2.09-1.584l-1.543-6.926 5.146-4.667c.94-.85.435-2.465-.799-2.567l-6.773-.602L13.29.89a1.38 1.38 0 0 0-2.581 0l-2.65 6.53-6.774.602C.052 8.126-.453 9.74.486 10.59l5.147 4.666-1.542 6.926c-.28 1.262 1.023 2.26 2.09 1.585L12 20.099z\"></path></svg>7.6<span class=\"ipc-rating-star--voteCount\"> (<!-- -->423K<!-- -->)</span></span>,\n",
       " <span aria-label=\"IMDb rating: 8.0\" class=\"ipc-rating-star ipc-rating-star--base ipc-rating-star--imdb ratingGroup--imdb-rating\" data-testid=\"ratingGroup--imdb-rating\"><svg class=\"ipc-icon ipc-icon--star-inline\" fill=\"currentColor\" height=\"24\" role=\"presentation\" viewbox=\"0 0 24 24\" width=\"24\" xmlns=\"http://www.w3.org/2000/svg\"><path d=\"M12 20.1l5.82 3.682c1.066.675 2.37-.322 2.09-1.584l-1.543-6.926 5.146-4.667c.94-.85.435-2.465-.799-2.567l-6.773-.602L13.29.89a1.38 1.38 0 0 0-2.581 0l-2.65 6.53-6.774.602C.052 8.126-.453 9.74.486 10.59l5.147 4.666-1.542 6.926c-.28 1.262 1.023 2.26 2.09 1.585L12 20.099z\"></path></svg>8.0<span class=\"ipc-rating-star--voteCount\"> (<!-- -->479K<!-- -->)</span></span>,\n",
       " <span aria-label=\"IMDb rating: 7.5\" class=\"ipc-rating-star ipc-rating-star--base ipc-rating-star--imdb ratingGroup--imdb-rating\" data-testid=\"ratingGroup--imdb-rating\"><svg class=\"ipc-icon ipc-icon--star-inline\" fill=\"currentColor\" height=\"24\" role=\"presentation\" viewbox=\"0 0 24 24\" width=\"24\" xmlns=\"http://www.w3.org/2000/svg\"><path d=\"M12 20.1l5.82 3.682c1.066.675 2.37-.322 2.09-1.584l-1.543-6.926 5.146-4.667c.94-.85.435-2.465-.799-2.567l-6.773-.602L13.29.89a1.38 1.38 0 0 0-2.581 0l-2.65 6.53-6.774.602C.052 8.126-.453 9.74.486 10.59l5.147 4.666-1.542 6.926c-.28 1.262 1.023 2.26 2.09 1.585L12 20.099z\"></path></svg>7.5<span class=\"ipc-rating-star--voteCount\"> (<!-- -->354K<!-- -->)</span></span>,\n",
       " <span aria-label=\"IMDb rating: 8.2\" class=\"ipc-rating-star ipc-rating-star--base ipc-rating-star--imdb ratingGroup--imdb-rating\" data-testid=\"ratingGroup--imdb-rating\"><svg class=\"ipc-icon ipc-icon--star-inline\" fill=\"currentColor\" height=\"24\" role=\"presentation\" viewbox=\"0 0 24 24\" width=\"24\" xmlns=\"http://www.w3.org/2000/svg\"><path d=\"M12 20.1l5.82 3.682c1.066.675 2.37-.322 2.09-1.584l-1.543-6.926 5.146-4.667c.94-.85.435-2.465-.799-2.567l-6.773-.602L13.29.89a1.38 1.38 0 0 0-2.581 0l-2.65 6.53-6.774.602C.052 8.126-.453 9.74.486 10.59l5.147 4.666-1.542 6.926c-.28 1.262 1.023 2.26 2.09 1.585L12 20.099z\"></path></svg>8.2<span class=\"ipc-rating-star--voteCount\"> (<!-- -->435K<!-- -->)</span></span>,\n",
       " <span aria-label=\"IMDb rating: 7.7\" class=\"ipc-rating-star ipc-rating-star--base ipc-rating-star--imdb ratingGroup--imdb-rating\" data-testid=\"ratingGroup--imdb-rating\"><svg class=\"ipc-icon ipc-icon--star-inline\" fill=\"currentColor\" height=\"24\" role=\"presentation\" viewbox=\"0 0 24 24\" width=\"24\" xmlns=\"http://www.w3.org/2000/svg\"><path d=\"M12 20.1l5.82 3.682c1.066.675 2.37-.322 2.09-1.584l-1.543-6.926 5.146-4.667c.94-.85.435-2.465-.799-2.567l-6.773-.602L13.29.89a1.38 1.38 0 0 0-2.581 0l-2.65 6.53-6.774.602C.052 8.126-.453 9.74.486 10.59l5.147 4.666-1.542 6.926c-.28 1.262 1.023 2.26 2.09 1.585L12 20.099z\"></path></svg>7.7<span class=\"ipc-rating-star--voteCount\"> (<!-- -->652K<!-- -->)</span></span>,\n",
       " <span aria-label=\"IMDb rating: 7.6\" class=\"ipc-rating-star ipc-rating-star--base ipc-rating-star--imdb ratingGroup--imdb-rating\" data-testid=\"ratingGroup--imdb-rating\"><svg class=\"ipc-icon ipc-icon--star-inline\" fill=\"currentColor\" height=\"24\" role=\"presentation\" viewbox=\"0 0 24 24\" width=\"24\" xmlns=\"http://www.w3.org/2000/svg\"><path d=\"M12 20.1l5.82 3.682c1.066.675 2.37-.322 2.09-1.584l-1.543-6.926 5.146-4.667c.94-.85.435-2.465-.799-2.567l-6.773-.602L13.29.89a1.38 1.38 0 0 0-2.581 0l-2.65 6.53-6.774.602C.052 8.126-.453 9.74.486 10.59l5.147 4.666-1.542 6.926c-.28 1.262 1.023 2.26 2.09 1.585L12 20.099z\"></path></svg>7.6<span class=\"ipc-rating-star--voteCount\"> (<!-- -->172K<!-- -->)</span></span>,\n",
       " <span aria-label=\"IMDb rating: 8.0\" class=\"ipc-rating-star ipc-rating-star--base ipc-rating-star--imdb ratingGroup--imdb-rating\" data-testid=\"ratingGroup--imdb-rating\"><svg class=\"ipc-icon ipc-icon--star-inline\" fill=\"currentColor\" height=\"24\" role=\"presentation\" viewbox=\"0 0 24 24\" width=\"24\" xmlns=\"http://www.w3.org/2000/svg\"><path d=\"M12 20.1l5.82 3.682c1.066.675 2.37-.322 2.09-1.584l-1.543-6.926 5.146-4.667c.94-.85.435-2.465-.799-2.567l-6.773-.602L13.29.89a1.38 1.38 0 0 0-2.581 0l-2.65 6.53-6.774.602C.052 8.126-.453 9.74.486 10.59l5.147 4.666-1.542 6.926c-.28 1.262 1.023 2.26 2.09 1.585L12 20.099z\"></path></svg>8.0<span class=\"ipc-rating-star--voteCount\"> (<!-- -->290K<!-- -->)</span></span>,\n",
       " <span aria-label=\"IMDb rating: 7.7\" class=\"ipc-rating-star ipc-rating-star--base ipc-rating-star--imdb ratingGroup--imdb-rating\" data-testid=\"ratingGroup--imdb-rating\"><svg class=\"ipc-icon ipc-icon--star-inline\" fill=\"currentColor\" height=\"24\" role=\"presentation\" viewbox=\"0 0 24 24\" width=\"24\" xmlns=\"http://www.w3.org/2000/svg\"><path d=\"M12 20.1l5.82 3.682c1.066.675 2.37-.322 2.09-1.584l-1.543-6.926 5.146-4.667c.94-.85.435-2.465-.799-2.567l-6.773-.602L13.29.89a1.38 1.38 0 0 0-2.581 0l-2.65 6.53-6.774.602C.052 8.126-.453 9.74.486 10.59l5.147 4.666-1.542 6.926c-.28 1.262 1.023 2.26 2.09 1.585L12 20.099z\"></path></svg>7.7<span class=\"ipc-rating-star--voteCount\"> (<!-- -->187K<!-- -->)</span></span>,\n",
       " <span aria-label=\"IMDb rating: 8.0\" class=\"ipc-rating-star ipc-rating-star--base ipc-rating-star--imdb ratingGroup--imdb-rating\" data-testid=\"ratingGroup--imdb-rating\"><svg class=\"ipc-icon ipc-icon--star-inline\" fill=\"currentColor\" height=\"24\" role=\"presentation\" viewbox=\"0 0 24 24\" width=\"24\" xmlns=\"http://www.w3.org/2000/svg\"><path d=\"M12 20.1l5.82 3.682c1.066.675 2.37-.322 2.09-1.584l-1.543-6.926 5.146-4.667c.94-.85.435-2.465-.799-2.567l-6.773-.602L13.29.89a1.38 1.38 0 0 0-2.581 0l-2.65 6.53-6.774.602C.052 8.126-.453 9.74.486 10.59l5.147 4.666-1.542 6.926c-.28 1.262 1.023 2.26 2.09 1.585L12 20.099z\"></path></svg>8.0<span class=\"ipc-rating-star--voteCount\"> (<!-- -->465K<!-- -->)</span></span>,\n",
       " <span aria-label=\"IMDb rating: 7.7\" class=\"ipc-rating-star ipc-rating-star--base ipc-rating-star--imdb ratingGroup--imdb-rating\" data-testid=\"ratingGroup--imdb-rating\"><svg class=\"ipc-icon ipc-icon--star-inline\" fill=\"currentColor\" height=\"24\" role=\"presentation\" viewbox=\"0 0 24 24\" width=\"24\" xmlns=\"http://www.w3.org/2000/svg\"><path d=\"M12 20.1l5.82 3.682c1.066.675 2.37-.322 2.09-1.584l-1.543-6.926 5.146-4.667c.94-.85.435-2.465-.799-2.567l-6.773-.602L13.29.89a1.38 1.38 0 0 0-2.581 0l-2.65 6.53-6.774.602C.052 8.126-.453 9.74.486 10.59l5.147 4.666-1.542 6.926c-.28 1.262 1.023 2.26 2.09 1.585L12 20.099z\"></path></svg>7.7<span class=\"ipc-rating-star--voteCount\"> (<!-- -->142K<!-- -->)</span></span>,\n",
       " <span aria-label=\"IMDb rating: 7.5\" class=\"ipc-rating-star ipc-rating-star--base ipc-rating-star--imdb ratingGroup--imdb-rating\" data-testid=\"ratingGroup--imdb-rating\"><svg class=\"ipc-icon ipc-icon--star-inline\" fill=\"currentColor\" height=\"24\" role=\"presentation\" viewbox=\"0 0 24 24\" width=\"24\" xmlns=\"http://www.w3.org/2000/svg\"><path d=\"M12 20.1l5.82 3.682c1.066.675 2.37-.322 2.09-1.584l-1.543-6.926 5.146-4.667c.94-.85.435-2.465-.799-2.567l-6.773-.602L13.29.89a1.38 1.38 0 0 0-2.581 0l-2.65 6.53-6.774.602C.052 8.126-.453 9.74.486 10.59l5.147 4.666-1.542 6.926c-.28 1.262 1.023 2.26 2.09 1.585L12 20.099z\"></path></svg>7.5<span class=\"ipc-rating-star--voteCount\"> (<!-- -->214K<!-- -->)</span></span>,\n",
       " <span aria-label=\"IMDb rating: 7.8\" class=\"ipc-rating-star ipc-rating-star--base ipc-rating-star--imdb ratingGroup--imdb-rating\" data-testid=\"ratingGroup--imdb-rating\"><svg class=\"ipc-icon ipc-icon--star-inline\" fill=\"currentColor\" height=\"24\" role=\"presentation\" viewbox=\"0 0 24 24\" width=\"24\" xmlns=\"http://www.w3.org/2000/svg\"><path d=\"M12 20.1l5.82 3.682c1.066.675 2.37-.322 2.09-1.584l-1.543-6.926 5.146-4.667c.94-.85.435-2.465-.799-2.567l-6.773-.602L13.29.89a1.38 1.38 0 0 0-2.581 0l-2.65 6.53-6.774.602C.052 8.126-.453 9.74.486 10.59l5.147 4.666-1.542 6.926c-.28 1.262 1.023 2.26 2.09 1.585L12 20.099z\"></path></svg>7.8<span class=\"ipc-rating-star--voteCount\"> (<!-- -->154K<!-- -->)</span></span>,\n",
       " <span aria-label=\"IMDb rating: 7.7\" class=\"ipc-rating-star ipc-rating-star--base ipc-rating-star--imdb ratingGroup--imdb-rating\" data-testid=\"ratingGroup--imdb-rating\"><svg class=\"ipc-icon ipc-icon--star-inline\" fill=\"currentColor\" height=\"24\" role=\"presentation\" viewbox=\"0 0 24 24\" width=\"24\" xmlns=\"http://www.w3.org/2000/svg\"><path d=\"M12 20.1l5.82 3.682c1.066.675 2.37-.322 2.09-1.584l-1.543-6.926 5.146-4.667c.94-.85.435-2.465-.799-2.567l-6.773-.602L13.29.89a1.38 1.38 0 0 0-2.581 0l-2.65 6.53-6.774.602C.052 8.126-.453 9.74.486 10.59l5.147 4.666-1.542 6.926c-.28 1.262 1.023 2.26 2.09 1.585L12 20.099z\"></path></svg>7.7<span class=\"ipc-rating-star--voteCount\"> (<!-- -->287K<!-- -->)</span></span>,\n",
       " <span aria-label=\"IMDb rating: 7.9\" class=\"ipc-rating-star ipc-rating-star--base ipc-rating-star--imdb ratingGroup--imdb-rating\" data-testid=\"ratingGroup--imdb-rating\"><svg class=\"ipc-icon ipc-icon--star-inline\" fill=\"currentColor\" height=\"24\" role=\"presentation\" viewbox=\"0 0 24 24\" width=\"24\" xmlns=\"http://www.w3.org/2000/svg\"><path d=\"M12 20.1l5.82 3.682c1.066.675 2.37-.322 2.09-1.584l-1.543-6.926 5.146-4.667c.94-.85.435-2.465-.799-2.567l-6.773-.602L13.29.89a1.38 1.38 0 0 0-2.581 0l-2.65 6.53-6.774.602C.052 8.126-.453 9.74.486 10.59l5.147 4.666-1.542 6.926c-.28 1.262 1.023 2.26 2.09 1.585L12 20.099z\"></path></svg>7.9<span class=\"ipc-rating-star--voteCount\"> (<!-- -->523K<!-- -->)</span></span>,\n",
       " <span aria-label=\"IMDb rating: 8.0\" class=\"ipc-rating-star ipc-rating-star--base ipc-rating-star--imdb ratingGroup--imdb-rating\" data-testid=\"ratingGroup--imdb-rating\"><svg class=\"ipc-icon ipc-icon--star-inline\" fill=\"currentColor\" height=\"24\" role=\"presentation\" viewbox=\"0 0 24 24\" width=\"24\" xmlns=\"http://www.w3.org/2000/svg\"><path d=\"M12 20.1l5.82 3.682c1.066.675 2.37-.322 2.09-1.584l-1.543-6.926 5.146-4.667c.94-.85.435-2.465-.799-2.567l-6.773-.602L13.29.89a1.38 1.38 0 0 0-2.581 0l-2.65 6.53-6.774.602C.052 8.126-.453 9.74.486 10.59l5.147 4.666-1.542 6.926c-.28 1.262 1.023 2.26 2.09 1.585L12 20.099z\"></path></svg>8.0<span class=\"ipc-rating-star--voteCount\"> (<!-- -->328K<!-- -->)</span></span>,\n",
       " <span aria-label=\"IMDb rating: 7.8\" class=\"ipc-rating-star ipc-rating-star--base ipc-rating-star--imdb ratingGroup--imdb-rating\" data-testid=\"ratingGroup--imdb-rating\"><svg class=\"ipc-icon ipc-icon--star-inline\" fill=\"currentColor\" height=\"24\" role=\"presentation\" viewbox=\"0 0 24 24\" width=\"24\" xmlns=\"http://www.w3.org/2000/svg\"><path d=\"M12 20.1l5.82 3.682c1.066.675 2.37-.322 2.09-1.584l-1.543-6.926 5.146-4.667c.94-.85.435-2.465-.799-2.567l-6.773-.602L13.29.89a1.38 1.38 0 0 0-2.581 0l-2.65 6.53-6.774.602C.052 8.126-.453 9.74.486 10.59l5.147 4.666-1.542 6.926c-.28 1.262 1.023 2.26 2.09 1.585L12 20.099z\"></path></svg>7.8<span class=\"ipc-rating-star--voteCount\"> (<!-- -->235K<!-- -->)</span></span>,\n",
       " <span aria-label=\"IMDb rating: 7.8\" class=\"ipc-rating-star ipc-rating-star--base ipc-rating-star--imdb ratingGroup--imdb-rating\" data-testid=\"ratingGroup--imdb-rating\"><svg class=\"ipc-icon ipc-icon--star-inline\" fill=\"currentColor\" height=\"24\" role=\"presentation\" viewbox=\"0 0 24 24\" width=\"24\" xmlns=\"http://www.w3.org/2000/svg\"><path d=\"M12 20.1l5.82 3.682c1.066.675 2.37-.322 2.09-1.584l-1.543-6.926 5.146-4.667c.94-.85.435-2.465-.799-2.567l-6.773-.602L13.29.89a1.38 1.38 0 0 0-2.581 0l-2.65 6.53-6.774.602C.052 8.126-.453 9.74.486 10.59l5.147 4.666-1.542 6.926c-.28 1.262 1.023 2.26 2.09 1.585L12 20.099z\"></path></svg>7.8<span class=\"ipc-rating-star--voteCount\"> (<!-- -->158K<!-- -->)</span></span>,\n",
       " <span aria-label=\"IMDb rating: 7.7\" class=\"ipc-rating-star ipc-rating-star--base ipc-rating-star--imdb ratingGroup--imdb-rating\" data-testid=\"ratingGroup--imdb-rating\"><svg class=\"ipc-icon ipc-icon--star-inline\" fill=\"currentColor\" height=\"24\" role=\"presentation\" viewbox=\"0 0 24 24\" width=\"24\" xmlns=\"http://www.w3.org/2000/svg\"><path d=\"M12 20.1l5.82 3.682c1.066.675 2.37-.322 2.09-1.584l-1.543-6.926 5.146-4.667c.94-.85.435-2.465-.799-2.567l-6.773-.602L13.29.89a1.38 1.38 0 0 0-2.581 0l-2.65 6.53-6.774.602C.052 8.126-.453 9.74.486 10.59l5.147 4.666-1.542 6.926c-.28 1.262 1.023 2.26 2.09 1.585L12 20.099z\"></path></svg>7.7<span class=\"ipc-rating-star--voteCount\"> (<!-- -->116K<!-- -->)</span></span>,\n",
       " <span aria-label=\"IMDb rating: 8.0\" class=\"ipc-rating-star ipc-rating-star--base ipc-rating-star--imdb ratingGroup--imdb-rating\" data-testid=\"ratingGroup--imdb-rating\"><svg class=\"ipc-icon ipc-icon--star-inline\" fill=\"currentColor\" height=\"24\" role=\"presentation\" viewbox=\"0 0 24 24\" width=\"24\" xmlns=\"http://www.w3.org/2000/svg\"><path d=\"M12 20.1l5.82 3.682c1.066.675 2.37-.322 2.09-1.584l-1.543-6.926 5.146-4.667c.94-.85.435-2.465-.799-2.567l-6.773-.602L13.29.89a1.38 1.38 0 0 0-2.581 0l-2.65 6.53-6.774.602C.052 8.126-.453 9.74.486 10.59l5.147 4.666-1.542 6.926c-.28 1.262 1.023 2.26 2.09 1.585L12 20.099z\"></path></svg>8.0<span class=\"ipc-rating-star--voteCount\"> (<!-- -->170K<!-- -->)</span></span>,\n",
       " <span aria-label=\"IMDb rating: 7.6\" class=\"ipc-rating-star ipc-rating-star--base ipc-rating-star--imdb ratingGroup--imdb-rating\" data-testid=\"ratingGroup--imdb-rating\"><svg class=\"ipc-icon ipc-icon--star-inline\" fill=\"currentColor\" height=\"24\" role=\"presentation\" viewbox=\"0 0 24 24\" width=\"24\" xmlns=\"http://www.w3.org/2000/svg\"><path d=\"M12 20.1l5.82 3.682c1.066.675 2.37-.322 2.09-1.584l-1.543-6.926 5.146-4.667c.94-.85.435-2.465-.799-2.567l-6.773-.602L13.29.89a1.38 1.38 0 0 0-2.581 0l-2.65 6.53-6.774.602C.052 8.126-.453 9.74.486 10.59l5.147 4.666-1.542 6.926c-.28 1.262 1.023 2.26 2.09 1.585L12 20.099z\"></path></svg>7.6<span class=\"ipc-rating-star--voteCount\"> (<!-- -->39K<!-- -->)</span></span>,\n",
       " <span aria-label=\"IMDb rating: 7.5\" class=\"ipc-rating-star ipc-rating-star--base ipc-rating-star--imdb ratingGroup--imdb-rating\" data-testid=\"ratingGroup--imdb-rating\"><svg class=\"ipc-icon ipc-icon--star-inline\" fill=\"currentColor\" height=\"24\" role=\"presentation\" viewbox=\"0 0 24 24\" width=\"24\" xmlns=\"http://www.w3.org/2000/svg\"><path d=\"M12 20.1l5.82 3.682c1.066.675 2.37-.322 2.09-1.584l-1.543-6.926 5.146-4.667c.94-.85.435-2.465-.799-2.567l-6.773-.602L13.29.89a1.38 1.38 0 0 0-2.581 0l-2.65 6.53-6.774.602C.052 8.126-.453 9.74.486 10.59l5.147 4.666-1.542 6.926c-.28 1.262 1.023 2.26 2.09 1.585L12 20.099z\"></path></svg>7.5<span class=\"ipc-rating-star--voteCount\"> (<!-- -->103K<!-- -->)</span></span>,\n",
       " <span aria-label=\"IMDb rating: 7.5\" class=\"ipc-rating-star ipc-rating-star--base ipc-rating-star--imdb ratingGroup--imdb-rating\" data-testid=\"ratingGroup--imdb-rating\"><svg class=\"ipc-icon ipc-icon--star-inline\" fill=\"currentColor\" height=\"24\" role=\"presentation\" viewbox=\"0 0 24 24\" width=\"24\" xmlns=\"http://www.w3.org/2000/svg\"><path d=\"M12 20.1l5.82 3.682c1.066.675 2.37-.322 2.09-1.584l-1.543-6.926 5.146-4.667c.94-.85.435-2.465-.799-2.567l-6.773-.602L13.29.89a1.38 1.38 0 0 0-2.581 0l-2.65 6.53-6.774.602C.052 8.126-.453 9.74.486 10.59l5.147 4.666-1.542 6.926c-.28 1.262 1.023 2.26 2.09 1.585L12 20.099z\"></path></svg>7.5<span class=\"ipc-rating-star--voteCount\"> (<!-- -->62K<!-- -->)</span></span>,\n",
       " <span aria-label=\"IMDb rating: 7.5\" class=\"ipc-rating-star ipc-rating-star--base ipc-rating-star--imdb ratingGroup--imdb-rating\" data-testid=\"ratingGroup--imdb-rating\"><svg class=\"ipc-icon ipc-icon--star-inline\" fill=\"currentColor\" height=\"24\" role=\"presentation\" viewbox=\"0 0 24 24\" width=\"24\" xmlns=\"http://www.w3.org/2000/svg\"><path d=\"M12 20.1l5.82 3.682c1.066.675 2.37-.322 2.09-1.584l-1.543-6.926 5.146-4.667c.94-.85.435-2.465-.799-2.567l-6.773-.602L13.29.89a1.38 1.38 0 0 0-2.581 0l-2.65 6.53-6.774.602C.052 8.126-.453 9.74.486 10.59l5.147 4.666-1.542 6.926c-.28 1.262 1.023 2.26 2.09 1.585L12 20.099z\"></path></svg>7.5<span class=\"ipc-rating-star--voteCount\"> (<!-- -->47K<!-- -->)</span></span>,\n",
       " <span aria-label=\"IMDb rating: 7.5\" class=\"ipc-rating-star ipc-rating-star--base ipc-rating-star--imdb ratingGroup--imdb-rating\" data-testid=\"ratingGroup--imdb-rating\"><svg class=\"ipc-icon ipc-icon--star-inline\" fill=\"currentColor\" height=\"24\" role=\"presentation\" viewbox=\"0 0 24 24\" width=\"24\" xmlns=\"http://www.w3.org/2000/svg\"><path d=\"M12 20.1l5.82 3.682c1.066.675 2.37-.322 2.09-1.584l-1.543-6.926 5.146-4.667c.94-.85.435-2.465-.799-2.567l-6.773-.602L13.29.89a1.38 1.38 0 0 0-2.581 0l-2.65 6.53-6.774.602C.052 8.126-.453 9.74.486 10.59l5.147 4.666-1.542 6.926c-.28 1.262 1.023 2.26 2.09 1.585L12 20.099z\"></path></svg>7.5<span class=\"ipc-rating-star--voteCount\"> (<!-- -->91K<!-- -->)</span></span>,\n",
       " <span aria-label=\"IMDb rating: 7.7\" class=\"ipc-rating-star ipc-rating-star--base ipc-rating-star--imdb ratingGroup--imdb-rating\" data-testid=\"ratingGroup--imdb-rating\"><svg class=\"ipc-icon ipc-icon--star-inline\" fill=\"currentColor\" height=\"24\" role=\"presentation\" viewbox=\"0 0 24 24\" width=\"24\" xmlns=\"http://www.w3.org/2000/svg\"><path d=\"M12 20.1l5.82 3.682c1.066.675 2.37-.322 2.09-1.584l-1.543-6.926 5.146-4.667c.94-.85.435-2.465-.799-2.567l-6.773-.602L13.29.89a1.38 1.38 0 0 0-2.581 0l-2.65 6.53-6.774.602C.052 8.126-.453 9.74.486 10.59l5.147 4.666-1.542 6.926c-.28 1.262 1.023 2.26 2.09 1.585L12 20.099z\"></path></svg>7.7<span class=\"ipc-rating-star--voteCount\"> (<!-- -->102K<!-- -->)</span></span>,\n",
       " <span aria-label=\"IMDb rating: 7.5\" class=\"ipc-rating-star ipc-rating-star--base ipc-rating-star--imdb ratingGroup--imdb-rating\" data-testid=\"ratingGroup--imdb-rating\"><svg class=\"ipc-icon ipc-icon--star-inline\" fill=\"currentColor\" height=\"24\" role=\"presentation\" viewbox=\"0 0 24 24\" width=\"24\" xmlns=\"http://www.w3.org/2000/svg\"><path d=\"M12 20.1l5.82 3.682c1.066.675 2.37-.322 2.09-1.584l-1.543-6.926 5.146-4.667c.94-.85.435-2.465-.799-2.567l-6.773-.602L13.29.89a1.38 1.38 0 0 0-2.581 0l-2.65 6.53-6.774.602C.052 8.126-.453 9.74.486 10.59l5.147 4.666-1.542 6.926c-.28 1.262 1.023 2.26 2.09 1.585L12 20.099z\"></path></svg>7.5<span class=\"ipc-rating-star--voteCount\"> (<!-- -->66K<!-- -->)</span></span>,\n",
       " <span aria-label=\"IMDb rating: 7.5\" class=\"ipc-rating-star ipc-rating-star--base ipc-rating-star--imdb ratingGroup--imdb-rating\" data-testid=\"ratingGroup--imdb-rating\"><svg class=\"ipc-icon ipc-icon--star-inline\" fill=\"currentColor\" height=\"24\" role=\"presentation\" viewbox=\"0 0 24 24\" width=\"24\" xmlns=\"http://www.w3.org/2000/svg\"><path d=\"M12 20.1l5.82 3.682c1.066.675 2.37-.322 2.09-1.584l-1.543-6.926 5.146-4.667c.94-.85.435-2.465-.799-2.567l-6.773-.602L13.29.89a1.38 1.38 0 0 0-2.581 0l-2.65 6.53-6.774.602C.052 8.126-.453 9.74.486 10.59l5.147 4.666-1.542 6.926c-.28 1.262 1.023 2.26 2.09 1.585L12 20.099z\"></path></svg>7.5<span class=\"ipc-rating-star--voteCount\"> (<!-- -->9.3K<!-- -->)</span></span>,\n",
       " <span aria-label=\"IMDb rating: 7.6\" class=\"ipc-rating-star ipc-rating-star--base ipc-rating-star--imdb ratingGroup--imdb-rating\" data-testid=\"ratingGroup--imdb-rating\"><svg class=\"ipc-icon ipc-icon--star-inline\" fill=\"currentColor\" height=\"24\" role=\"presentation\" viewbox=\"0 0 24 24\" width=\"24\" xmlns=\"http://www.w3.org/2000/svg\"><path d=\"M12 20.1l5.82 3.682c1.066.675 2.37-.322 2.09-1.584l-1.543-6.926 5.146-4.667c.94-.85.435-2.465-.799-2.567l-6.773-.602L13.29.89a1.38 1.38 0 0 0-2.581 0l-2.65 6.53-6.774.602C.052 8.126-.453 9.74.486 10.59l5.147 4.666-1.542 6.926c-.28 1.262 1.023 2.26 2.09 1.585L12 20.099z\"></path></svg>7.6<span class=\"ipc-rating-star--voteCount\"> (<!-- -->129K<!-- -->)</span></span>,\n",
       " <span aria-label=\"IMDb rating: 7.7\" class=\"ipc-rating-star ipc-rating-star--base ipc-rating-star--imdb ratingGroup--imdb-rating\" data-testid=\"ratingGroup--imdb-rating\"><svg class=\"ipc-icon ipc-icon--star-inline\" fill=\"currentColor\" height=\"24\" role=\"presentation\" viewbox=\"0 0 24 24\" width=\"24\" xmlns=\"http://www.w3.org/2000/svg\"><path d=\"M12 20.1l5.82 3.682c1.066.675 2.37-.322 2.09-1.584l-1.543-6.926 5.146-4.667c.94-.85.435-2.465-.799-2.567l-6.773-.602L13.29.89a1.38 1.38 0 0 0-2.581 0l-2.65 6.53-6.774.602C.052 8.126-.453 9.74.486 10.59l5.147 4.666-1.542 6.926c-.28 1.262 1.023 2.26 2.09 1.585L12 20.099z\"></path></svg>7.7<span class=\"ipc-rating-star--voteCount\"> (<!-- -->102K<!-- -->)</span></span>,\n",
       " <span aria-label=\"IMDb rating: 7.5\" class=\"ipc-rating-star ipc-rating-star--base ipc-rating-star--imdb ratingGroup--imdb-rating\" data-testid=\"ratingGroup--imdb-rating\"><svg class=\"ipc-icon ipc-icon--star-inline\" fill=\"currentColor\" height=\"24\" role=\"presentation\" viewbox=\"0 0 24 24\" width=\"24\" xmlns=\"http://www.w3.org/2000/svg\"><path d=\"M12 20.1l5.82 3.682c1.066.675 2.37-.322 2.09-1.584l-1.543-6.926 5.146-4.667c.94-.85.435-2.465-.799-2.567l-6.773-.602L13.29.89a1.38 1.38 0 0 0-2.581 0l-2.65 6.53-6.774.602C.052 8.126-.453 9.74.486 10.59l5.147 4.666-1.542 6.926c-.28 1.262 1.023 2.26 2.09 1.585L12 20.099z\"></path></svg>7.5<span class=\"ipc-rating-star--voteCount\"> (<!-- -->90K<!-- -->)</span></span>,\n",
       " <span aria-label=\"IMDb rating: 7.7\" class=\"ipc-rating-star ipc-rating-star--base ipc-rating-star--imdb ratingGroup--imdb-rating\" data-testid=\"ratingGroup--imdb-rating\"><svg class=\"ipc-icon ipc-icon--star-inline\" fill=\"currentColor\" height=\"24\" role=\"presentation\" viewbox=\"0 0 24 24\" width=\"24\" xmlns=\"http://www.w3.org/2000/svg\"><path d=\"M12 20.1l5.82 3.682c1.066.675 2.37-.322 2.09-1.584l-1.543-6.926 5.146-4.667c.94-.85.435-2.465-.799-2.567l-6.773-.602L13.29.89a1.38 1.38 0 0 0-2.581 0l-2.65 6.53-6.774.602C.052 8.126-.453 9.74.486 10.59l5.147 4.666-1.542 6.926c-.28 1.262 1.023 2.26 2.09 1.585L12 20.099z\"></path></svg>7.7<span class=\"ipc-rating-star--voteCount\"> (<!-- -->66K<!-- -->)</span></span>,\n",
       " <span aria-label=\"IMDb rating: 7.7\" class=\"ipc-rating-star ipc-rating-star--base ipc-rating-star--imdb ratingGroup--imdb-rating\" data-testid=\"ratingGroup--imdb-rating\"><svg class=\"ipc-icon ipc-icon--star-inline\" fill=\"currentColor\" height=\"24\" role=\"presentation\" viewbox=\"0 0 24 24\" width=\"24\" xmlns=\"http://www.w3.org/2000/svg\"><path d=\"M12 20.1l5.82 3.682c1.066.675 2.37-.322 2.09-1.584l-1.543-6.926 5.146-4.667c.94-.85.435-2.465-.799-2.567l-6.773-.602L13.29.89a1.38 1.38 0 0 0-2.581 0l-2.65 6.53-6.774.602C.052 8.126-.453 9.74.486 10.59l5.147 4.666-1.542 6.926c-.28 1.262 1.023 2.26 2.09 1.585L12 20.099z\"></path></svg>7.7<span class=\"ipc-rating-star--voteCount\"> (<!-- -->54K<!-- -->)</span></span>,\n",
       " <span aria-label=\"IMDb rating: 8.2\" class=\"ipc-rating-star ipc-rating-star--base ipc-rating-star--imdb ratingGroup--imdb-rating\" data-testid=\"ratingGroup--imdb-rating\"><svg class=\"ipc-icon ipc-icon--star-inline\" fill=\"currentColor\" height=\"24\" role=\"presentation\" viewbox=\"0 0 24 24\" width=\"24\" xmlns=\"http://www.w3.org/2000/svg\"><path d=\"M12 20.1l5.82 3.682c1.066.675 2.37-.322 2.09-1.584l-1.543-6.926 5.146-4.667c.94-.85.435-2.465-.799-2.567l-6.773-.602L13.29.89a1.38 1.38 0 0 0-2.581 0l-2.65 6.53-6.774.602C.052 8.126-.453 9.74.486 10.59l5.147 4.666-1.542 6.926c-.28 1.262 1.023 2.26 2.09 1.585L12 20.099z\"></path></svg>8.2<span class=\"ipc-rating-star--voteCount\"> (<!-- -->13K<!-- -->)</span></span>,\n",
       " <span aria-label=\"IMDb rating: 7.7\" class=\"ipc-rating-star ipc-rating-star--base ipc-rating-star--imdb ratingGroup--imdb-rating\" data-testid=\"ratingGroup--imdb-rating\"><svg class=\"ipc-icon ipc-icon--star-inline\" fill=\"currentColor\" height=\"24\" role=\"presentation\" viewbox=\"0 0 24 24\" width=\"24\" xmlns=\"http://www.w3.org/2000/svg\"><path d=\"M12 20.1l5.82 3.682c1.066.675 2.37-.322 2.09-1.584l-1.543-6.926 5.146-4.667c.94-.85.435-2.465-.799-2.567l-6.773-.602L13.29.89a1.38 1.38 0 0 0-2.581 0l-2.65 6.53-6.774.602C.052 8.126-.453 9.74.486 10.59l5.147 4.666-1.542 6.926c-.28 1.262 1.023 2.26 2.09 1.585L12 20.099z\"></path></svg>7.7<span class=\"ipc-rating-star--voteCount\"> (<!-- -->53K<!-- -->)</span></span>,\n",
       " <span aria-label=\"IMDb rating: 7.6\" class=\"ipc-rating-star ipc-rating-star--base ipc-rating-star--imdb ratingGroup--imdb-rating\" data-testid=\"ratingGroup--imdb-rating\"><svg class=\"ipc-icon ipc-icon--star-inline\" fill=\"currentColor\" height=\"24\" role=\"presentation\" viewbox=\"0 0 24 24\" width=\"24\" xmlns=\"http://www.w3.org/2000/svg\"><path d=\"M12 20.1l5.82 3.682c1.066.675 2.37-.322 2.09-1.584l-1.543-6.926 5.146-4.667c.94-.85.435-2.465-.799-2.567l-6.773-.602L13.29.89a1.38 1.38 0 0 0-2.581 0l-2.65 6.53-6.774.602C.052 8.126-.453 9.74.486 10.59l5.147 4.666-1.542 6.926c-.28 1.262 1.023 2.26 2.09 1.585L12 20.099z\"></path></svg>7.6<span class=\"ipc-rating-star--voteCount\"> (<!-- -->37K<!-- -->)</span></span>,\n",
       " <span aria-label=\"IMDb rating: 7.7\" class=\"ipc-rating-star ipc-rating-star--base ipc-rating-star--imdb ratingGroup--imdb-rating\" data-testid=\"ratingGroup--imdb-rating\"><svg class=\"ipc-icon ipc-icon--star-inline\" fill=\"currentColor\" height=\"24\" role=\"presentation\" viewbox=\"0 0 24 24\" width=\"24\" xmlns=\"http://www.w3.org/2000/svg\"><path d=\"M12 20.1l5.82 3.682c1.066.675 2.37-.322 2.09-1.584l-1.543-6.926 5.146-4.667c.94-.85.435-2.465-.799-2.567l-6.773-.602L13.29.89a1.38 1.38 0 0 0-2.581 0l-2.65 6.53-6.774.602C.052 8.126-.453 9.74.486 10.59l5.147 4.666-1.542 6.926c-.28 1.262 1.023 2.26 2.09 1.585L12 20.099z\"></path></svg>7.7<span class=\"ipc-rating-star--voteCount\"> (<!-- -->29K<!-- -->)</span></span>,\n",
       " <span aria-label=\"IMDb rating: 7.5\" class=\"ipc-rating-star ipc-rating-star--base ipc-rating-star--imdb ratingGroup--imdb-rating\" data-testid=\"ratingGroup--imdb-rating\"><svg class=\"ipc-icon ipc-icon--star-inline\" fill=\"currentColor\" height=\"24\" role=\"presentation\" viewbox=\"0 0 24 24\" width=\"24\" xmlns=\"http://www.w3.org/2000/svg\"><path d=\"M12 20.1l5.82 3.682c1.066.675 2.37-.322 2.09-1.584l-1.543-6.926 5.146-4.667c.94-.85.435-2.465-.799-2.567l-6.773-.602L13.29.89a1.38 1.38 0 0 0-2.581 0l-2.65 6.53-6.774.602C.052 8.126-.453 9.74.486 10.59l5.147 4.666-1.542 6.926c-.28 1.262 1.023 2.26 2.09 1.585L12 20.099z\"></path></svg>7.5<span class=\"ipc-rating-star--voteCount\"> (<!-- -->4.9K<!-- -->)</span></span>,\n",
       " <span aria-label=\"IMDb rating: 8.1\" class=\"ipc-rating-star ipc-rating-star--base ipc-rating-star--imdb ratingGroup--imdb-rating\" data-testid=\"ratingGroup--imdb-rating\"><svg class=\"ipc-icon ipc-icon--star-inline\" fill=\"currentColor\" height=\"24\" role=\"presentation\" viewbox=\"0 0 24 24\" width=\"24\" xmlns=\"http://www.w3.org/2000/svg\"><path d=\"M12 20.1l5.82 3.682c1.066.675 2.37-.322 2.09-1.584l-1.543-6.926 5.146-4.667c.94-.85.435-2.465-.799-2.567l-6.773-.602L13.29.89a1.38 1.38 0 0 0-2.581 0l-2.65 6.53-6.774.602C.052 8.126-.453 9.74.486 10.59l5.147 4.666-1.542 6.926c-.28 1.262 1.023 2.26 2.09 1.585L12 20.099z\"></path></svg>8.1<span class=\"ipc-rating-star--voteCount\"> (<!-- -->35K<!-- -->)</span></span>,\n",
       " <span aria-label=\"IMDb rating: 8.2\" class=\"ipc-rating-star ipc-rating-star--base ipc-rating-star--imdb ratingGroup--imdb-rating\" data-testid=\"ratingGroup--imdb-rating\"><svg class=\"ipc-icon ipc-icon--star-inline\" fill=\"currentColor\" height=\"24\" role=\"presentation\" viewbox=\"0 0 24 24\" width=\"24\" xmlns=\"http://www.w3.org/2000/svg\"><path d=\"M12 20.1l5.82 3.682c1.066.675 2.37-.322 2.09-1.584l-1.543-6.926 5.146-4.667c.94-.85.435-2.465-.799-2.567l-6.773-.602L13.29.89a1.38 1.38 0 0 0-2.581 0l-2.65 6.53-6.774.602C.052 8.126-.453 9.74.486 10.59l5.147 4.666-1.542 6.926c-.28 1.262 1.023 2.26 2.09 1.585L12 20.099z\"></path></svg>8.2<span class=\"ipc-rating-star--voteCount\"> (<!-- -->23K<!-- -->)</span></span>,\n",
       " <span aria-label=\"IMDb rating: 7.5\" class=\"ipc-rating-star ipc-rating-star--base ipc-rating-star--imdb ratingGroup--imdb-rating\" data-testid=\"ratingGroup--imdb-rating\"><svg class=\"ipc-icon ipc-icon--star-inline\" fill=\"currentColor\" height=\"24\" role=\"presentation\" viewbox=\"0 0 24 24\" width=\"24\" xmlns=\"http://www.w3.org/2000/svg\"><path d=\"M12 20.1l5.82 3.682c1.066.675 2.37-.322 2.09-1.584l-1.543-6.926 5.146-4.667c.94-.85.435-2.465-.799-2.567l-6.773-.602L13.29.89a1.38 1.38 0 0 0-2.581 0l-2.65 6.53-6.774.602C.052 8.126-.453 9.74.486 10.59l5.147 4.666-1.542 6.926c-.28 1.262 1.023 2.26 2.09 1.585L12 20.099z\"></path></svg>7.5<span class=\"ipc-rating-star--voteCount\"> (<!-- -->26K<!-- -->)</span></span>,\n",
       " <span aria-label=\"IMDb rating: 8.5\" class=\"ipc-rating-star ipc-rating-star--base ipc-rating-star--imdb ratingGroup--imdb-rating\" data-testid=\"ratingGroup--imdb-rating\"><svg class=\"ipc-icon ipc-icon--star-inline\" fill=\"currentColor\" height=\"24\" role=\"presentation\" viewbox=\"0 0 24 24\" width=\"24\" xmlns=\"http://www.w3.org/2000/svg\"><path d=\"M12 20.1l5.82 3.682c1.066.675 2.37-.322 2.09-1.584l-1.543-6.926 5.146-4.667c.94-.85.435-2.465-.799-2.567l-6.773-.602L13.29.89a1.38 1.38 0 0 0-2.581 0l-2.65 6.53-6.774.602C.052 8.126-.453 9.74.486 10.59l5.147 4.666-1.542 6.926c-.28 1.262 1.023 2.26 2.09 1.585L12 20.099z\"></path></svg>8.5<span class=\"ipc-rating-star--voteCount\"> (<!-- -->41K<!-- -->)</span></span>,\n",
       " <span aria-label=\"IMDb rating: 8.2\" class=\"ipc-rating-star ipc-rating-star--base ipc-rating-star--imdb ratingGroup--imdb-rating\" data-testid=\"ratingGroup--imdb-rating\"><svg class=\"ipc-icon ipc-icon--star-inline\" fill=\"currentColor\" height=\"24\" role=\"presentation\" viewbox=\"0 0 24 24\" width=\"24\" xmlns=\"http://www.w3.org/2000/svg\"><path d=\"M12 20.1l5.82 3.682c1.066.675 2.37-.322 2.09-1.584l-1.543-6.926 5.146-4.667c.94-.85.435-2.465-.799-2.567l-6.773-.602L13.29.89a1.38 1.38 0 0 0-2.581 0l-2.65 6.53-6.774.602C.052 8.126-.453 9.74.486 10.59l5.147 4.666-1.542 6.926c-.28 1.262 1.023 2.26 2.09 1.585L12 20.099z\"></path></svg>8.2<span class=\"ipc-rating-star--voteCount\"> (<!-- -->18K<!-- -->)</span></span>,\n",
       " <span aria-label=\"IMDb rating: 7.5\" class=\"ipc-rating-star ipc-rating-star--base ipc-rating-star--imdb ratingGroup--imdb-rating\" data-testid=\"ratingGroup--imdb-rating\"><svg class=\"ipc-icon ipc-icon--star-inline\" fill=\"currentColor\" height=\"24\" role=\"presentation\" viewbox=\"0 0 24 24\" width=\"24\" xmlns=\"http://www.w3.org/2000/svg\"><path d=\"M12 20.1l5.82 3.682c1.066.675 2.37-.322 2.09-1.584l-1.543-6.926 5.146-4.667c.94-.85.435-2.465-.799-2.567l-6.773-.602L13.29.89a1.38 1.38 0 0 0-2.581 0l-2.65 6.53-6.774.602C.052 8.126-.453 9.74.486 10.59l5.147 4.666-1.542 6.926c-.28 1.262 1.023 2.26 2.09 1.585L12 20.099z\"></path></svg>7.5<span class=\"ipc-rating-star--voteCount\"> (<!-- -->23K<!-- -->)</span></span>,\n",
       " <span aria-label=\"IMDb rating: 8.1\" class=\"ipc-rating-star ipc-rating-star--base ipc-rating-star--imdb ratingGroup--imdb-rating\" data-testid=\"ratingGroup--imdb-rating\"><svg class=\"ipc-icon ipc-icon--star-inline\" fill=\"currentColor\" height=\"24\" role=\"presentation\" viewbox=\"0 0 24 24\" width=\"24\" xmlns=\"http://www.w3.org/2000/svg\"><path d=\"M12 20.1l5.82 3.682c1.066.675 2.37-.322 2.09-1.584l-1.543-6.926 5.146-4.667c.94-.85.435-2.465-.799-2.567l-6.773-.602L13.29.89a1.38 1.38 0 0 0-2.581 0l-2.65 6.53-6.774.602C.052 8.126-.453 9.74.486 10.59l5.147 4.666-1.542 6.926c-.28 1.262 1.023 2.26 2.09 1.585L12 20.099z\"></path></svg>8.1<span class=\"ipc-rating-star--voteCount\"> (<!-- -->23K<!-- -->)</span></span>]"
      ]
     },
     "execution_count": 17,
     "metadata": {},
     "output_type": "execute_result"
    }
   ],
   "source": [
    "# <span aria-label=\"IMDb rating: 8.6\" class=\"ipc-rating-star ipc-rating-star--base ipc-rating-star--imdb ratingGroup--imdb-rating\" data-testid=\"ratingGroup--imdb-rating\"><svg width=\"24\" height=\"24\" xmlns=\"http://www.w3.org/2000/svg\" class=\"ipc-icon ipc-icon--star-inline\" viewBox=\"0 0 24 24\" fill=\"currentColor\" role=\"presentation\"><path d=\"M12 20.1l5.82 3.682c1.066.675 2.37-.322 2.09-1.584l-1.543-6.926 5.146-4.667c.94-.85.435-2.465-.799-2.567l-6.773-.602L13.29.89a1.38 1.38 0 0 0-2.581 0l-2.65 6.53-6.774.602C.052 8.126-.453 9.74.486 10.59l5.147 4.666-1.542 6.926c-.28 1.262 1.023 2.26 2.09 1.585L12 20.099z\"></path></svg>8.6<span class=\"ipc-rating-star--voteCount\">&nbsp;(1.5M)</span></span>\n",
    "rating_element = soup.find_all( \"span\", class_=\"ipc-rating-star ipc-rating-star--base ipc-rating-star--imdb ratingGroup--imdb-rating\")\n",
    "rating_element"
   ]
  },
  {
   "cell_type": "code",
   "execution_count": 18,
   "id": "1f839ea4",
   "metadata": {},
   "outputs": [
    {
     "data": {
      "text/plain": [
       "['8.6\\xa0(1.5M)',\n",
       " '8.7\\xa0(1.3M)',\n",
       " '8.6\\xa0(1.2M)',\n",
       " '7.6\\xa0(140K)',\n",
       " '8.3\\xa0(1.1M)',\n",
       " '7.7\\xa0(83K)',\n",
       " '7.6\\xa0(423K)',\n",
       " '8.0\\xa0(479K)',\n",
       " '7.5\\xa0(354K)',\n",
       " '8.2\\xa0(435K)',\n",
       " '7.7\\xa0(652K)',\n",
       " '7.6\\xa0(172K)',\n",
       " '8.0\\xa0(290K)',\n",
       " '7.7\\xa0(187K)',\n",
       " '8.0\\xa0(465K)',\n",
       " '7.7\\xa0(142K)',\n",
       " '7.5\\xa0(214K)',\n",
       " '7.8\\xa0(154K)',\n",
       " '7.7\\xa0(287K)',\n",
       " '7.9\\xa0(523K)',\n",
       " '8.0\\xa0(328K)',\n",
       " '7.8\\xa0(235K)',\n",
       " '7.8\\xa0(158K)',\n",
       " '7.7\\xa0(116K)',\n",
       " '8.0\\xa0(170K)',\n",
       " '7.6\\xa0(39K)',\n",
       " '7.5\\xa0(103K)',\n",
       " '7.5\\xa0(62K)',\n",
       " '7.5\\xa0(47K)',\n",
       " '7.5\\xa0(91K)',\n",
       " '7.7\\xa0(102K)',\n",
       " '7.5\\xa0(66K)',\n",
       " '7.5\\xa0(9.3K)',\n",
       " '7.6\\xa0(129K)',\n",
       " '7.7\\xa0(102K)',\n",
       " '7.5\\xa0(90K)',\n",
       " '7.7\\xa0(66K)',\n",
       " '7.7\\xa0(54K)',\n",
       " '8.2\\xa0(13K)',\n",
       " '7.7\\xa0(53K)',\n",
       " '7.6\\xa0(37K)',\n",
       " '7.7\\xa0(29K)',\n",
       " '7.5\\xa0(4.9K)',\n",
       " '8.1\\xa0(35K)',\n",
       " '8.2\\xa0(23K)',\n",
       " '7.5\\xa0(26K)',\n",
       " '8.5\\xa0(41K)',\n",
       " '8.2\\xa0(18K)',\n",
       " '7.5\\xa0(23K)',\n",
       " '8.1\\xa0(23K)']"
      ]
     },
     "execution_count": 18,
     "metadata": {},
     "output_type": "execute_result"
    }
   ],
   "source": [
    "rating_element_lists = [i.get_text() for i in rating_element]\n",
    "rating_element_lists\n"
   ]
  },
  {
   "cell_type": "code",
   "execution_count": 22,
   "id": "c24aadfa",
   "metadata": {},
   "outputs": [
    {
     "name": "stdout",
     "output_type": "stream",
     "text": [
      "['8.6', '8.7', '8.6', '7.6', '8.3', '7.7', '7.6', '8.0', '7.5', '8.2', '7.7', '7.6', '8.0', '7.7', '8.0', '7.7', '7.5', '7.8', '7.7', '7.9', '8.0', '7.8', '7.8', '7.7', '8.0', '7.6', '7.5', '7.5', '7.5', '7.5', '7.7', '7.5', '7.5', '7.6', '7.7', '7.5', '7.7', '7.7', '8.2', '7.7', '7.6', '7.7', '7.5', '8.1', '8.2', '7.5', '8.5', '8.2', '7.5', '8.1']\n",
      "['1.5M', '1.3M', '1.2M', '140K', '1.1M', '83K', '423K', '479K', '354K', '435K', '652K', '172K', '290K', '187K', '465K', '142K', '214K', '154K', '287K', '523K', '328K', '235K', '158K', '116K', '170K', '39K', '103K', '62K', '47K', '91K', '102K', '66K', '9.3K', '129K', '102K', '90K', '66K', '54K', '13K', '53K', '37K', '29K', '4.9K', '35K', '23K', '26K', '41K', '18K', '23K', '23K']\n"
     ]
    }
   ],
   "source": [
    "import re\n",
    "rating = []\n",
    "votes = []\n",
    "\n",
    "for i in rating_element_lists:\n",
    "    rating_lev = re.search(r'\\d+\\.\\d+', i).group()\n",
    "    rating.append( rating_lev)\n",
    "print(rating)\n",
    "\n",
    "for i in rating_element_lists:\n",
    "    match = re.search(r'\\((.*?)\\)', i)\n",
    "    if match:\n",
    "        value_in_parentheses = match.group(1)\n",
    "        votes.append(value_in_parentheses)\n",
    "\n",
    "print(votes)"
   ]
  },
  {
   "cell_type": "code",
   "execution_count": 23,
   "id": "692e6a11",
   "metadata": {},
   "outputs": [
    {
     "name": "stdout",
     "output_type": "stream",
     "text": [
      "['A young F.B.I. cadet must receive the help of an incarcerated and manipulative cannibal killer to help catch another serial killer, a madman who skins his victims.', 'The story of Henry Hill and his life in the mafia, covering his relationship with his wife Karen and his mob partners Jimmy Conway and Tommy DeVito.', 'A cyborg, identical to the one who failed to kill Sarah Connor, must now protect her ten year old son John from an even more advanced and powerful cyborg.', 'Two New Yorkers accused of murder in rural Alabama while on their way back to college call in the help of one of their cousins, a loudmouth lawyer with no trial experience.', 'When a simple jewelry heist goes horribly wrong, the surviving criminals begin to suspect that one of them is a police informant.', 'Evelyn, an ordinary housewife, visits a nursing home and befriends the old lady Ninny. Together, they bond over stories from the past about two intrepid women of Whistle Stop Cafe.', 'Follows Michael Corleone, now in his 60s, as he seeks to free his family from crime and find a suitable successor to his empire.', \"A prince cursed to spend his days as a hideous monster sets out to regain his humanity by earning a young woman's love.\", 'When a man goes in to have virtual vacation memories of the planet Mars implanted in his mind, an unexpected and harrowing series of events forces him to go to the planet for real - or is he?', 'Retired Old West gunslinger William Munny reluctantly takes on one last job, with the help of his old partner Ned Logan and a young man, The \"Schofield Kid.\"', 'An eight-year-old troublemaker, mistakenly left home alone, must defend his home against a pair of burglars on Christmas Eve.', 'Two best friends set out on an adventure, but it soon turns around to a terrifying escape from being hunted by the police, as these two women escape for the crimes they committed.', 'Lieutenant John Dunbar, assigned to a remote western Civil War outpost, finds himself engaging with a neighbouring Sioux settlement, causing him to question his own purpose.', 'Three trappers protect the daughters of a British Colonel in the midst of the French and Indian War.', 'A kind-hearted street urchin and a power-hungry Grand Vizier vie for a magic lamp that has the power to make their deepest wishes come true.', 'Tom Reagan, an advisor to a Prohibition-era crime boss, tries to keep the peace between warring mobs but gets caught in divided loyalties.', \"In November 1984, the Soviet Union's best submarine captain violates orders and heads for the U.S. in a new undetectable sub. The American CIA and military must quickly determine: Is he trying to defect or to start a war?\", 'Follows the lives of three young males living in the Crenshaw ghetto of Los Angeles, dissecting questions of race, relationships, violence, and future prospects.', 'Military lawyer Lieutenant Daniel Kaffee defends Marines accused of murder. They contend they were acting under orders.', 'The solitary life of an artificial man - who was incompletely constructed and has scissors for hands - is upended when he is taken in by a suburban family.', 'A prep school student needing money agrees to \"babysit\" a blind man, but the job is not at all what he anticipated.', 'After a famous author is rescued from a car crash by a fan of his novels, he comes to realize that the care he is receiving is only the beginning of a nightmare of captivity and abuse.', 'The victims of an encephalitis epidemic many years ago have been catatonic ever since, but now a new drug offers the prospect of reviving them.', 'An examination of the machinations behind the scenes at a real estate office.', \"New Orleans District Attorney Jim Garrison discovers there's more to the Kennedy assassination than the official story.\", 'Jimmy Rabbitte, an unemployed Dublin boy, decides to put together a soul band made up entirely of the Irish working class.', \"A young man's mother is bitten by a Sumatran rat-monkey. She gets sick and dies, at which time she comes back to life, killing and eating dogs, nurses, friends, and neighbors.\", 'An elderly Charlie Chaplin discusses his autobiography with his editor, recounting his amazing journey from his poverty-stricken childhood to world-wide success after the ingenious invention of the Little Tramp.', 'A nomadic farm worker looks after his dimwitted, gentle-giant friend during the Great Depression.', 'A former radio DJ, suicidally despondent because of a terrible mistake he made, finds redemption in helping a deranged homeless man who was an unwitting victim of that mistake.', 'Biographical epic of the controversial and influential Black Nationalist leader, from his early life and career as a small-time gangster, to his ministry as a member of the Nation of Islam and his eventual assassination.', 'A Hollywood studio executive is being sent death threats by a writer whose script he rejected, but which one?', 'The former famous painter Frenhofer revisits an abandoned project using the girlfriend of a young visiting artist. Questions about truth, life, and artistic limits are explored.', 'A renowned New York playwright is enticed to California to write for the movies and discovers the hellish truth of Hollywood.', 'In 1930s Italy, a veteran World War I pilot is cursed to look like an anthropomorphic pig.', 'Post-apocalyptic surrealist black comedy about the landlord of an apartment building who occasionally prepares a delicacy for his odd tenants.', 'An anthology of 5 different cab drivers in 5 American and European cities and their remarkable fares on the same eventful night.', 'A tough-as-nails cop teams up with an undercover agent to shut down a sinister mobster and his crew.', \"Based on a true story, primarily on a conflict between two youth gangs, a 14-year-old boy's girlfriend conflicts with the head of one gang for an unclear reason, until finally the conflict comes to a violent climax.\", \"Two parallel stories about two identical women; one living in Poland, the other in France. They don't know each other, but their lives are nevertheless profoundly connected.\", 'A twenty-seven-year-old office worker travels to the countryside while reminiscing about her childhood in Tokyo.', \"A collection of tales based upon eight of director Akira Kurosawa's recurring dreams.\", 'The story of the rise and fall of an African American vocal group.', \"China in the 1920s. After her father's death, Songlian is forced to marry the wealthy Master Chen. With three wives already, each living in a separate house, there is fierce competition for his attention and the privileges that are gained.\", 'The true story of Hossain Sabzian, a cinephile who impersonated the director Mohsen Makhmalbaf to convince a family they would star in his so-called new film.', 'Famed swordsman and poet Cyrano de Bergerac is in love with his cousin Roxane. He has never expressed his love for her as he his large nose undermines his self-confidence. Then he finds a way to express his love to her, indirectly.', 'A collection of expertly photographed scenes of human life and religion.', \"A chronicle of New York's drag scene in the 1980s, focusing on balls, voguing and the ambitions and dreams of those who gave the era its warmth and vitality.\", 'Just after World War II, an American takes a railway job in Germany, but finds his position politically sensitive with various people trying to use him.', \"Documentary that chronicles how Francis Ford Coppola's Apocalypse Now (1979) was plagued by extraordinary script, shooting, budget, and casting problems--nearly destroying the life and career of the celebrated director.\"]\n"
     ]
    }
   ],
   "source": [
    "description_element = soup.find_all( \"div\" , class_=\"ipc-html-content-inner-div\")\n",
    "description_element\n",
    "description_element_lists = ([i.get_text() for i in description_element])\n",
    "description = description_element_lists\n",
    "print(description)"
   ]
  },
  {
   "cell_type": "markdown",
   "id": "9ab1217a-df9d-4a2b-a32c-2c5f1eecd52a",
   "metadata": {
    "id": "9ab1217a-df9d-4a2b-a32c-2c5f1eecd52a"
   },
   "source": [
    "## BONUS\n",
    "\n",
    "The search results span multiple pages, housing a total of 631 movies in our example with each page displaying 50 movies at most. To scrape data seamlessly from all pages, you'll need to dive deep into the structure of the URLs generated with each \"Next\" click.\n",
    "\n",
    "Take a close look at the following URLs:\n",
    "- First page:\n",
    "  ```\n",
    "  https://www.imdb.com/search/title/?title_type=feature&release_date=1990-01-01,1992-12-31&user_rating=7.5,\n",
    "  ```\n",
    "- Second page:\n",
    "  ```\n",
    "  https://www.imdb.com/search/title/?title_type=feature&release_date=1990-01-01,1992-12-31&user_rating=7.5,&start=51&ref_=adv_nxt\n",
    "  ```\n",
    "- Third page:\n",
    "  ```\n",
    "  https://www.imdb.com/search/title/?title_type=feature&release_date=1990-01-01,1992-12-31&user_rating=7.5,&start=101&ref_=adv_nxt\n",
    "  ```\n",
    "\n",
    "You should notice a pattern. There is a `start` parameter incrementing by 50 with each page, paired with a constant `ref_` parameter holding the value \"adv_nxt\".\n",
    "\n",
    "Modify your script so it's capable of iterating over all available pages to fetch data on all the 631 movies (631 is the total number of movies in the proposed example)."
   ]
  },
  {
   "cell_type": "code",
   "execution_count": null,
   "id": "21ac4fc0-a12b-4a00-9266-2020166f0dea",
   "metadata": {
    "id": "21ac4fc0-a12b-4a00-9266-2020166f0dea"
   },
   "outputs": [],
   "source": [
    "# Your solution goes here"
   ]
  },
  {
   "cell_type": "code",
   "execution_count": 32,
   "id": "29a4dd35",
   "metadata": {},
   "outputs": [
    {
     "name": "stdout",
     "output_type": "stream",
     "text": [
      "https://www.imdb.com/search/title/?title_type=feature&release_date=1990-01-01,1992-12-31&user_rating=7.5,&start=1&ref_=adv_nxt\n",
      "https://www.imdb.com/search/title/?title_type=feature&release_date=1990-01-01,1992-12-31&user_rating=7.5,&start=51&ref_=adv_nxt\n",
      "https://www.imdb.com/search/title/?title_type=feature&release_date=1990-01-01,1992-12-31&user_rating=7.5,&start=101&ref_=adv_nxt\n",
      "https://www.imdb.com/search/title/?title_type=feature&release_date=1990-01-01,1992-12-31&user_rating=7.5,&start=151&ref_=adv_nxt\n",
      "https://www.imdb.com/search/title/?title_type=feature&release_date=1990-01-01,1992-12-31&user_rating=7.5,&start=201&ref_=adv_nxt\n",
      "https://www.imdb.com/search/title/?title_type=feature&release_date=1990-01-01,1992-12-31&user_rating=7.5,&start=251&ref_=adv_nxt\n",
      "https://www.imdb.com/search/title/?title_type=feature&release_date=1990-01-01,1992-12-31&user_rating=7.5,&start=301&ref_=adv_nxt\n",
      "https://www.imdb.com/search/title/?title_type=feature&release_date=1990-01-01,1992-12-31&user_rating=7.5,&start=351&ref_=adv_nxt\n",
      "https://www.imdb.com/search/title/?title_type=feature&release_date=1990-01-01,1992-12-31&user_rating=7.5,&start=401&ref_=adv_nxt\n",
      "https://www.imdb.com/search/title/?title_type=feature&release_date=1990-01-01,1992-12-31&user_rating=7.5,&start=451&ref_=adv_nxt\n",
      "https://www.imdb.com/search/title/?title_type=feature&release_date=1990-01-01,1992-12-31&user_rating=7.5,&start=501&ref_=adv_nxt\n",
      "https://www.imdb.com/search/title/?title_type=feature&release_date=1990-01-01,1992-12-31&user_rating=7.5,&start=551&ref_=adv_nxt\n",
      "https://www.imdb.com/search/title/?title_type=feature&release_date=1990-01-01,1992-12-31&user_rating=7.5,&start=601&ref_=adv_nxt\n"
     ]
    }
   ],
   "source": [
    "base_url = \"https://www.imdb.com/search/title/?title_type=feature&release_date=1990-01-01,1992-12-31&user_rating=7.5,\"\n",
    "start = 1\n",
    "while start < 631:\n",
    "    page_url = f\"{base_url}&start={start}&ref_=adv_nxt\"\n",
    "    print(page_url)\n",
    "    start += 50"
   ]
  },
  {
   "cell_type": "code",
   "execution_count": null,
   "id": "95c1a332",
   "metadata": {},
   "outputs": [],
   "source": []
  }
 ],
 "metadata": {
  "colab": {
   "provenance": []
  },
  "kernelspec": {
   "display_name": "Python 3 (ipykernel)",
   "language": "python",
   "name": "python3"
  },
  "language_info": {
   "codemirror_mode": {
    "name": "ipython",
    "version": 3
   },
   "file_extension": ".py",
   "mimetype": "text/x-python",
   "name": "python",
   "nbconvert_exporter": "python",
   "pygments_lexer": "ipython3",
   "version": "3.11.5"
  }
 },
 "nbformat": 4,
 "nbformat_minor": 5
}
